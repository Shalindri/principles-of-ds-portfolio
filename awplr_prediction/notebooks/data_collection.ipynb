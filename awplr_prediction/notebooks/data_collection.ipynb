{
 "cells": [
  {
   "cell_type": "code",
   "execution_count": 268,
   "id": "e0280fa7-c582-469f-821c-d8ee4f300aeb",
   "metadata": {},
   "outputs": [
    {
     "name": "stdout",
     "output_type": "stream",
     "text": [
      "Extracted Data:\n",
      "(1009, 2)\n",
      "        End Week Weekly\n",
      "0     2025-02-28   8.36\n",
      "1     2025-02-21   8.39\n",
      "2     2025-02-14   8.42\n",
      "3     2025-02-07   8.59\n",
      "4     2025-01-31   8.56\n",
      "...          ...    ...\n",
      "1004  2008-01-31    NaN\n",
      "1005  2008-01-25  17.83\n",
      "1006  2008-01-18  17.49\n",
      "1007  2008-01-11  17.19\n",
      "1008  2008-01-04  19.33\n",
      "\n",
      "[1009 rows x 2 columns]\n"
     ]
    }
   ],
   "source": [
    "import pandas as pd\n",
    "\n",
    "# 1. Read the HTML table from the file and convert to CSV\n",
    "tables = pd.read_html('../data/awplr.xls')\n",
    "df = tables[0]\n",
    "\n",
    "# 3. Use row 5 (the 6th row) as the header\n",
    "df.columns = df.iloc[5].values  # .values ensures we take only the row’s data\n",
    "df.columns.name = None          # remove the “5” name that sometimes appears\n",
    "\n",
    "# 4. Keep rows after row 5 as the data\n",
    "df = df.iloc[6:].reset_index(drop=True)\n",
    "\n",
    "# 5. Extract only the desired columns (adjust names if they differ)\n",
    "df_extracted = df[['End Week', 'Weekly']]\n",
    "\n",
    "# 6. Remove any index name (just to be sure)\n",
    "df_extracted.index.name = None\n",
    "\n",
    "# 7. Print a clean table in the console without row indices\n",
    "print(\"Extracted Data:\")\n",
    "print(df_extracted.shape)\n",
    "print(df_extracted)"
   ]
  },
  {
   "cell_type": "code",
   "execution_count": 270,
   "id": "babb0311-be43-4b1e-95fc-26f75abcf974",
   "metadata": {},
   "outputs": [
    {
     "name": "stdout",
     "output_type": "stream",
     "text": [
      "End Week    object\n",
      "Weekly      object\n",
      "dtype: object\n"
     ]
    }
   ],
   "source": [
    "print(df_extracted.dtypes)\n"
   ]
  },
  {
   "cell_type": "code",
   "execution_count": 272,
   "id": "9e041d89-4238-423a-b8f9-fd2ab086ab40",
   "metadata": {},
   "outputs": [
    {
     "name": "stderr",
     "output_type": "stream",
     "text": [
      "/var/folders/c4/lp7tf77d1j5_vh5zsl8h57_h0000gn/T/ipykernel_89180/2910981868.py:2: SettingWithCopyWarning: \n",
      "A value is trying to be set on a copy of a slice from a DataFrame.\n",
      "Try using .loc[row_indexer,col_indexer] = value instead\n",
      "\n",
      "See the caveats in the documentation: https://pandas.pydata.org/pandas-docs/stable/user_guide/indexing.html#returning-a-view-versus-a-copy\n",
      "  df_extracted[\"End Week\"] = pd.to_datetime(df_extracted[\"End Week\"])\n"
     ]
    }
   ],
   "source": [
    "# Convert 'End Week Weekly' to datetime\n",
    "df_extracted[\"End Week\"] = pd.to_datetime(df_extracted[\"End Week\"])\n",
    "\n",
    "# Find NaN row\n",
    "nan_row = df_extracted[df_extracted[\"Weekly\"].isna()]\n",
    "\n",
    "# Loop through each NaN row and check if the date is a Friday\n",
    "for _, row in nan_row.iterrows():\n",
    "    date_of_nan = row[\"End Week\"]\n",
    "    is_friday = date_of_nan.weekday() == 4  # 4 represents Friday\n",
    "    if is_friday:\n",
    "        print(f\"Date {date_of_nan.date()} is a Friday: {is_friday}\")\n",
    "\n",
    "# If no NaN values are found\n",
    "if nan_row.empty:\n",
    "    print(\"No NaN values found.\")"
   ]
  },
  {
   "cell_type": "code",
   "execution_count": 274,
   "id": "0b8dd4b3-0244-483a-a342-c6b4cdefaf41",
   "metadata": {},
   "outputs": [
    {
     "name": "stdout",
     "output_type": "stream",
     "text": [
      "       End Week Weekly\n",
      "0    2025-02-28   8.36\n",
      "1    2025-02-21   8.39\n",
      "2    2025-02-14   8.42\n",
      "3    2025-02-07   8.59\n",
      "4    2025-01-31   8.56\n",
      "...         ...    ...\n",
      "1003 2008-02-01  19.42\n",
      "1005 2008-01-25  17.83\n",
      "1006 2008-01-18  17.49\n",
      "1007 2008-01-11  17.19\n",
      "1008 2008-01-04  19.33\n",
      "\n",
      "[896 rows x 2 columns]\n"
     ]
    }
   ],
   "source": [
    "df_cleaned = df_extracted.dropna()\n",
    "print(df_cleaned)"
   ]
  },
  {
   "cell_type": "code",
   "execution_count": 276,
   "id": "eedd15a4-93e9-4ab6-9e55-8236e7e128e6",
   "metadata": {},
   "outputs": [
    {
     "name": "stdout",
     "output_type": "stream",
     "text": [
      "Date     datetime64[ns]\n",
      "value           float64\n",
      "dtype: object\n"
     ]
    },
    {
     "name": "stderr",
     "output_type": "stream",
     "text": [
      "/var/folders/c4/lp7tf77d1j5_vh5zsl8h57_h0000gn/T/ipykernel_89180/1475500929.py:1: SettingWithCopyWarning: \n",
      "A value is trying to be set on a copy of a slice from a DataFrame\n",
      "\n",
      "See the caveats in the documentation: https://pandas.pydata.org/pandas-docs/stable/user_guide/indexing.html#returning-a-view-versus-a-copy\n",
      "  df_cleaned.rename(columns={\"Weekly\": \"value\"}, inplace=True)\n",
      "/var/folders/c4/lp7tf77d1j5_vh5zsl8h57_h0000gn/T/ipykernel_89180/1475500929.py:2: SettingWithCopyWarning: \n",
      "A value is trying to be set on a copy of a slice from a DataFrame\n",
      "\n",
      "See the caveats in the documentation: https://pandas.pydata.org/pandas-docs/stable/user_guide/indexing.html#returning-a-view-versus-a-copy\n",
      "  df_cleaned.rename(columns={\"End Week\": \"Date\"}, inplace=True)\n",
      "/var/folders/c4/lp7tf77d1j5_vh5zsl8h57_h0000gn/T/ipykernel_89180/1475500929.py:7: SettingWithCopyWarning: \n",
      "A value is trying to be set on a copy of a slice from a DataFrame.\n",
      "Try using .loc[row_indexer,col_indexer] = value instead\n",
      "\n",
      "See the caveats in the documentation: https://pandas.pydata.org/pandas-docs/stable/user_guide/indexing.html#returning-a-view-versus-a-copy\n",
      "  df_cleaned[\"value\"] = pd.to_numeric(df_cleaned[\"value\"], errors=\"coerce\")\n"
     ]
    }
   ],
   "source": [
    "df_cleaned.rename(columns={\"Weekly\": \"value\"}, inplace=True)\n",
    "df_cleaned.rename(columns={\"End Week\": \"Date\"}, inplace=True)\n",
    "\n",
    "\n",
    "\n",
    "# Convert \"weekly AWLPR value\" to float\n",
    "df_cleaned[\"value\"] = pd.to_numeric(df_cleaned[\"value\"], errors=\"coerce\")\n",
    "\n",
    "# Print data types to verify\n",
    "print(df_cleaned.dtypes)"
   ]
  },
  {
   "cell_type": "code",
   "execution_count": 280,
   "id": "14d54ad3-fad8-4f93-81fc-1f0c2a3a219d",
   "metadata": {},
   "outputs": [
    {
     "ename": "NameError",
     "evalue": "name 'plt' is not defined",
     "output_type": "error",
     "traceback": [
      "\u001b[0;31m---------------------------------------------------------------------------\u001b[0m",
      "\u001b[0;31mNameError\u001b[0m                                 Traceback (most recent call last)",
      "Cell \u001b[0;32mIn[280], line 2\u001b[0m\n\u001b[1;32m      1\u001b[0m \u001b[38;5;66;03m# Plot the sales trend over time\u001b[39;00m\n\u001b[0;32m----> 2\u001b[0m plt\u001b[38;5;241m.\u001b[39mfigure(figsize\u001b[38;5;241m=\u001b[39m(\u001b[38;5;241m20\u001b[39m, \u001b[38;5;241m6\u001b[39m))\n\u001b[1;32m      3\u001b[0m plt\u001b[38;5;241m.\u001b[39mplot(df_cleaned[\u001b[38;5;124m\"\u001b[39m\u001b[38;5;124mDate\u001b[39m\u001b[38;5;124m\"\u001b[39m], df_cleaned[\u001b[38;5;124m\"\u001b[39m\u001b[38;5;124mValue\u001b[39m\u001b[38;5;124m\"\u001b[39m], marker\u001b[38;5;241m=\u001b[39m\u001b[38;5;124m'\u001b[39m\u001b[38;5;124mo\u001b[39m\u001b[38;5;124m'\u001b[39m, linestyle\u001b[38;5;241m=\u001b[39m\u001b[38;5;124m'\u001b[39m\u001b[38;5;124m-\u001b[39m\u001b[38;5;124m'\u001b[39m, color\u001b[38;5;241m=\u001b[39m\u001b[38;5;124m'\u001b[39m\u001b[38;5;124mb\u001b[39m\u001b[38;5;124m'\u001b[39m, label\u001b[38;5;241m=\u001b[39m\u001b[38;5;124m\"\u001b[39m\u001b[38;5;124mMonthly AWLPR Value\u001b[39m\u001b[38;5;124m\"\u001b[39m)\n\u001b[1;32m      5\u001b[0m \u001b[38;5;66;03m# Formatting the plot\u001b[39;00m\n",
      "\u001b[0;31mNameError\u001b[0m: name 'plt' is not defined"
     ]
    }
   ],
   "source": [
    "# Plot the sales trend over time\n",
    "plt.figure(figsize=(20, 6))\n",
    "plt.plot(df_cleaned[\"Date\"], df_cleaned[\"Value\"], marker='o', linestyle='-', color='b', label=\"Monthly AWLPR Value\")\n",
    "\n",
    "# Formatting the plot\n",
    "plt.xlabel(\"Date\")\n",
    "plt.ylabel(\"Sales\")\n",
    "plt.title(\"GM Monthly Sales Trend\")\n",
    "plt.xticks(rotation=45)  # Rotate x-axis labels for better visibility\n",
    "plt.legend()\n",
    "plt.grid()\n",
    "\n",
    "# Show the plot\n",
    "plt.show()"
   ]
  },
  {
   "cell_type": "code",
   "execution_count": null,
   "id": "b9fe50eb-e5e0-407d-bf2a-09e043934f77",
   "metadata": {},
   "outputs": [],
   "source": []
  },
  {
   "cell_type": "code",
   "execution_count": null,
   "id": "3d25250e-e859-4af4-a2f4-779c313bbb6f",
   "metadata": {},
   "outputs": [],
   "source": []
  },
  {
   "cell_type": "code",
   "execution_count": null,
   "id": "27956c21-8f3b-4374-9888-21f401007a00",
   "metadata": {},
   "outputs": [],
   "source": []
  },
  {
   "cell_type": "code",
   "execution_count": null,
   "id": "69a19d9b-e193-4c07-bd12-d3adefa64480",
   "metadata": {},
   "outputs": [],
   "source": []
  },
  {
   "cell_type": "code",
   "execution_count": null,
   "id": "fe86cfdc-f5a6-4e23-a7f9-fa58a857ba50",
   "metadata": {},
   "outputs": [],
   "source": []
  }
 ],
 "metadata": {
  "kernelspec": {
   "display_name": "Python [conda env:base] *",
   "language": "python",
   "name": "conda-base-py"
  },
  "language_info": {
   "codemirror_mode": {
    "name": "ipython",
    "version": 3
   },
   "file_extension": ".py",
   "mimetype": "text/x-python",
   "name": "python",
   "nbconvert_exporter": "python",
   "pygments_lexer": "ipython3",
   "version": "3.12.7"
  }
 },
 "nbformat": 4,
 "nbformat_minor": 5
}
